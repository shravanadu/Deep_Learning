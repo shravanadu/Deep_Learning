{
  "nbformat": 4,
  "nbformat_minor": 0,
  "metadata": {
    "kernelspec": {
      "display_name": "Python 3",
      "language": "python",
      "name": "python3"
    },
    "language_info": {
      "codemirror_mode": {
        "name": "ipython",
        "version": 3
      },
      "file_extension": ".py",
      "mimetype": "text/x-python",
      "name": "python",
      "nbconvert_exporter": "python",
      "pygments_lexer": "ipython3",
      "version": "3.7.3"
    },
    "colab": {
      "name": "D19028_Shravan_Adulapuram_NN.ipynb",
      "provenance": []
    }
  },
  "cells": [
    {
      "cell_type": "markdown",
      "metadata": {
        "id": "EFcSXIpaCw7Q",
        "colab_type": "text"
      },
      "source": [
        "#### Simple feed forward network from scratch using MNIST Dataset\n",
        "\n",
        "\n"
      ]
    },
    {
      "cell_type": "markdown",
      "metadata": {
        "id": "2lcF3lwTCw7U",
        "colab_type": "text"
      },
      "source": [
        "### Step - 1. Know the Dataset\n",
        "\n",
        "    1.We will be using the popular MNIST database. \n",
        "    2. It is a collection of 70K handwritten digits split into training and test set of 60K and 10K images respectively.\n",
        "    \n",
        "### Goal: \n",
        "       Our goal will be to *build a Neural Network* that can take any image and predict the digit in that image. We will use PyTorch's nn module which provides a much more convenient and powerful method for defining network architectures."
      ]
    },
    {
      "cell_type": "code",
      "metadata": {
        "id": "Xkw_5h1hCw7V",
        "colab_type": "code",
        "colab": {}
      },
      "source": [
        "# Importing Required Libraries\n",
        "\n",
        "import os\n",
        "import pandas as pd\n",
        "import numpy as np\n",
        "import torch\n",
        "import torchvision\n",
        "import matplotlib.pyplot as plt\n",
        "from time import time\n",
        "from torchvision import datasets, transforms\n",
        "from torch import nn, optim\n",
        "from torch.autograd import Variable\n",
        "%matplotlib inline"
      ],
      "execution_count": 0,
      "outputs": []
    },
    {
      "cell_type": "code",
      "metadata": {
        "id": "MHZLW2CXCw7b",
        "colab_type": "code",
        "colab": {}
      },
      "source": [
        "# Before laoding dataset, we will define a transform which is used to normalize the data\n",
        "\n",
        "transform = transforms.Compose([transforms.ToTensor(), transforms.Normalize((0.5,),(0.5,))])"
      ],
      "execution_count": 0,
      "outputs": []
    },
    {
      "cell_type": "code",
      "metadata": {
        "id": "PEj6ciThCw7g",
        "colab_type": "code",
        "colab": {}
      },
      "source": [
        "# Load the Dataset from torchvision package:\n",
        " \n",
        "# Training data:\n",
        "trainset = datasets.MNIST('PATH_TO_STORE_TRAINSET', download=True, train=True, transform=transform)\n",
        "trainloader = torch.utils.data.DataLoader(trainset, batch_size=64, shuffle=True)\n",
        "\n",
        "#Test Data:\n",
        "valset = datasets.MNIST('PATH_TO_STORE_TESTSET', download=True, train=False, transform=transform)\n",
        "valloader = torch.utils.data.DataLoader(valset, batch_size=64, shuffle=True)"
      ],
      "execution_count": 0,
      "outputs": []
    },
    {
      "cell_type": "markdown",
      "metadata": {
        "id": "YJzoF6qzCw7k",
        "colab_type": "text"
      },
      "source": [
        "**Output:\n",
        "        Now we have training data loaded into trainloader & test data loaded into valloader**"
      ]
    },
    {
      "cell_type": "markdown",
      "metadata": {
        "id": "iCA53yOeCw7l",
        "colab_type": "text"
      },
      "source": [
        "### Step - 2. Exploratory Data Analysis"
      ]
    },
    {
      "cell_type": "code",
      "metadata": {
        "id": "BDAaVidjCw7n",
        "colab_type": "code",
        "colab": {
          "base_uri": "https://localhost:8080/",
          "height": 85
        },
        "outputId": "e193778b-1bb6-4dde-b17f-351e1c4d2ef0"
      },
      "source": [
        "#check out the **shape of the images** and **shape of the labels**:\n",
        "\n",
        "dataiter = iter(trainloader)\n",
        "images, labels = dataiter.next()\n",
        "\n",
        "print(type(images))\n",
        "print(images.shape)\n",
        "print(labels.shape)\n",
        "\n",
        "#Printing the size of one image\n",
        "\n",
        "print(images[1].numpy().squeeze().shape)"
      ],
      "execution_count": 4,
      "outputs": [
        {
          "output_type": "stream",
          "text": [
            "<class 'torch.Tensor'>\n",
            "torch.Size([64, 1, 28, 28])\n",
            "torch.Size([64])\n",
            "(28, 28)\n"
          ],
          "name": "stdout"
        }
      ]
    },
    {
      "cell_type": "markdown",
      "metadata": {
        "id": "ETjEc6TWCw7t",
        "colab_type": "text"
      },
      "source": [
        "**Output: The shape of images are torch.Size([64,1,28,28]), which means that there are 64 images in each batch and each image has a dimension of 28 x 28 pixels. Similarly, the labels have a shape as torch.Size([64]) as 64 images have 64 labels.**"
      ]
    },
    {
      "cell_type": "code",
      "metadata": {
        "id": "ZmZaCzZnCw7u",
        "colab_type": "code",
        "colab": {
          "base_uri": "https://localhost:8080/",
          "height": 265
        },
        "outputId": "6f8f99a6-d5a1-4174-990b-360eb39eb188"
      },
      "source": [
        "# Looking at the sample image displayed from training dataset:\n",
        "\n",
        "plt.imshow(images[0].numpy().squeeze(), cmap='gray_r');"
      ],
      "execution_count": 5,
      "outputs": [
        {
          "output_type": "display_data",
          "data": {
            "image/png": "[encoded data removed]",
            "text/plain": [
              "<Figure size 432x288 with 1 Axes>"
            ]
          },
          "metadata": {
            "tags": []
          }
        }
      ]
    },
    {
      "cell_type": "code",
      "metadata": {
        "id": "NZORIlStCw7z",
        "colab_type": "code",
        "colab": {
          "base_uri": "https://localhost:8080/",
          "height": 246
        },
        "outputId": "7e0440a1-f7b2-4cb1-fc1d-4c87981586b8"
      },
      "source": [
        "# Similarly displaying more images from training dataset:\n",
        "\n",
        "figure = plt.figure()\n",
        "for index in range(1, 61, 1):\n",
        "    plt.subplot(6, 10, index)\n",
        "    plt.axis('off')\n",
        "    plt.imshow(images[index].numpy().squeeze(), cmap='gray_r')"
      ],
      "execution_count": 6,
      "outputs": [
        {
          "output_type": "display_data",
          "data": {
            "image/png": "[encoded data removed]",
            "text/plain": [
              "<Figure size 432x288 with 60 Axes>"
            ]
          },
          "metadata": {
            "tags": []
          }
        }
      ]
    },
    {
      "cell_type": "code",
      "metadata": {
        "id": "NzQ09w9FCw74",
        "colab_type": "code",
        "colab": {
          "base_uri": "https://localhost:8080/",
          "height": 34
        },
        "outputId": "87ffa62e-b115-41c7-8c28-631de5414960"
      },
      "source": [
        "# To get *Number of input features*\n",
        "\n",
        "inputs=images.view(images.shape[0],-1)\n",
        "n_input=inputs.shape[1]\n",
        "\n",
        "print(\"Shape of the input features:\",n_input)"
      ],
      "execution_count": 7,
      "outputs": [
        {
          "output_type": "stream",
          "text": [
            "Shape of the input features: 784\n"
          ],
          "name": "stdout"
        }
      ]
    },
    {
      "cell_type": "code",
      "metadata": {
        "id": "OhPKaKqLCw78",
        "colab_type": "code",
        "colab": {}
      },
      "source": [
        "def view_classify(img, ps, version=\"MNIST\"):\n",
        "    ''' Function for viewing an image and it's predicted classes.\n",
        "    '''\n",
        "    ps = ps.data.numpy().squeeze()\n",
        "\n",
        "    fig, (ax1, ax2) = plt.subplots(figsize=(6,9), ncols=2)\n",
        "    ax1.imshow(img.resize_(1, 28, 28).numpy().squeeze())\n",
        "    ax1.axis('off')\n",
        "    ax2.barh(np.arange(10), ps)\n",
        "    ax2.set_aspect(0.1)\n",
        "    ax2.set_yticks(np.arange(10))\n",
        "    if version == \"MNIST\":\n",
        "        ax2.set_yticklabels(np.arange(10))\n",
        "    elif version == \"Fashion\":\n",
        "        ax2.set_yticklabels(['T-shirt/top',\n",
        "                            'Trouser',\n",
        "                            'Pullover',\n",
        "                            'Dress',\n",
        "                            'Coat',\n",
        "                            'Sandal',\n",
        "                            'Shirt',\n",
        "                            'Sneaker',\n",
        "                            'Bag',\n",
        "                            'Ankle Boot'], size='small');\n",
        "    ax2.set_title('Class Probability')\n",
        "    ax2.set_xlim(0, 1.1)\n",
        "\n",
        "    plt.tight_layout()"
      ],
      "execution_count": 0,
      "outputs": []
    },
    {
      "cell_type": "markdown",
      "metadata": {
        "id": "upNEvnU3Cw8A",
        "colab_type": "text"
      },
      "source": [
        "### Step - 3. Building the Neural Network using **nn** module from PyTorch"
      ]
    },
    {
      "cell_type": "code",
      "metadata": {
        "id": "JuMrcKDsCw8C",
        "colab_type": "code",
        "colab": {}
      },
      "source": [
        "## We will building the Neural Network Model using **nn module** from PyTorch which contain three layers.\n",
        "## 1. an input layer, 2. an output layer and 3. an hidden layer."
      ],
      "execution_count": 0,
      "outputs": []
    },
    {
      "cell_type": "code",
      "metadata": {
        "id": "lT2syXZRCw8F",
        "colab_type": "code",
        "colab": {
          "base_uri": "https://localhost:8080/",
          "height": 153
        },
        "outputId": "17aca99f-ca01-44c1-bbd9-f09f544f1b31"
      },
      "source": [
        "# Hyperparameters for our network\n",
        "\n",
        "#### - Using Sigmoid - Non Linear Activation for hidden Layers\n",
        "\n",
        "input_size = 784\n",
        "hidden_sizes = [128,64]\n",
        "output_size = 10\n",
        "\n",
        "model = nn.Sequential(nn.Linear(input_size, hidden_sizes[0]),\n",
        "                      nn.ReLU(),\n",
        "                      nn.Linear(hidden_sizes[0], hidden_sizes[1]),\n",
        "                      nn.ReLU(),\n",
        "                      nn.Linear(hidden_sizes[1], output_size),\n",
        "                      nn.LogSoftmax(dim=1))\n",
        "print(model)"
      ],
      "execution_count": 10,
      "outputs": [
        {
          "output_type": "stream",
          "text": [
            "Sequential(\n",
            "  (0): Linear(in_features=784, out_features=128, bias=True)\n",
            "  (1): ReLU()\n",
            "  (2): Linear(in_features=128, out_features=64, bias=True)\n",
            "  (3): ReLU()\n",
            "  (4): Linear(in_features=64, out_features=10, bias=True)\n",
            "  (5): LogSoftmax()\n",
            ")\n"
          ],
          "name": "stdout"
        }
      ]
    },
    {
      "cell_type": "code",
      "metadata": {
        "id": "K_bWXG8bCw8J",
        "colab_type": "code",
        "colab": {
          "base_uri": "https://localhost:8080/",
          "height": 187
        },
        "outputId": "e3766780-0936-450a-83ae-eb6f08074313"
      },
      "source": [
        "print(model[0])\n",
        "model[0].weight"
      ],
      "execution_count": 11,
      "outputs": [
        {
          "output_type": "stream",
          "text": [
            "Linear(in_features=784, out_features=128, bias=True)\n"
          ],
          "name": "stdout"
        },
        {
          "output_type": "execute_result",
          "data": {
            "text/plain": [
              "Parameter containing:\n",
              "tensor([[-0.0110,  0.0310,  0.0177,  ...,  0.0319, -0.0266,  0.0022],\n",
              "        [ 0.0133, -0.0261,  0.0063,  ...,  0.0237, -0.0105,  0.0010],\n",
              "        [ 0.0078, -0.0314,  0.0207,  ...,  0.0084,  0.0065, -0.0265],\n",
              "        ...,\n",
              "        [-0.0241, -0.0003,  0.0261,  ...,  0.0297,  0.0219, -0.0292],\n",
              "        [-0.0042, -0.0169, -0.0204,  ..., -0.0072, -0.0344, -0.0262],\n",
              "        [-0.0289, -0.0166,  0.0241,  ...,  0.0053,  0.0022,  0.0298]],\n",
              "       requires_grad=True)"
            ]
          },
          "metadata": {
            "tags": []
          },
          "execution_count": 11
        }
      ]
    },
    {
      "cell_type": "code",
      "metadata": {
        "id": "oI_Ls5DFCw8O",
        "colab_type": "code",
        "colab": {
          "base_uri": "https://localhost:8080/",
          "height": 34
        },
        "outputId": "e8d92e34-4dd4-4792-c792-943e702465bd"
      },
      "source": [
        "# Getting our data\n",
        "images, labels = next(iter(trainloader))\n",
        "\n",
        "# Flatten Images\n",
        "images = images.view(images.shape[0],-1)\n",
        "\n",
        "# Forward pass, to get our logits\n",
        "logits = model(images)  #log probabilites\n",
        "print(logits.shape)"
      ],
      "execution_count": 12,
      "outputs": [
        {
          "output_type": "stream",
          "text": [
            "torch.Size([64, 10])\n"
          ],
          "name": "stdout"
        }
      ]
    },
    {
      "cell_type": "code",
      "metadata": {
        "id": "Rod6HB5wCw8S",
        "colab_type": "code",
        "colab": {
          "base_uri": "https://localhost:8080/",
          "height": 34
        },
        "outputId": "d9e03749-6bdb-47c5-d153-d7ed67978999"
      },
      "source": [
        "# Define a Loss Function\n",
        "criterion = nn.NLLLoss()\n",
        "\n",
        "# Calculate the loss with the logits and the labels\n",
        "loss = criterion(logits, labels)\n",
        "print(loss)"
      ],
      "execution_count": 13,
      "outputs": [
        {
          "output_type": "stream",
          "text": [
            "tensor(2.3096, grad_fn=<NllLossBackward>)\n"
          ],
          "name": "stdout"
        }
      ]
    },
    {
      "cell_type": "code",
      "metadata": {
        "id": "yoGYTSYJCw8W",
        "colab_type": "code",
        "colab": {
          "base_uri": "https://localhost:8080/",
          "height": 34
        },
        "outputId": "88e10554-eccd-4a9a-ac0f-17c081051160"
      },
      "source": [
        "model.parameters()"
      ],
      "execution_count": 14,
      "outputs": [
        {
          "output_type": "execute_result",
          "data": {
            "text/plain": [
              "<generator object Module.parameters at 0x7f9b6d091f10>"
            ]
          },
          "metadata": {
            "tags": []
          },
          "execution_count": 14
        }
      ]
    },
    {
      "cell_type": "markdown",
      "metadata": {
        "id": "bPZiQw7YCw8a",
        "colab_type": "text"
      },
      "source": [
        "#### Final Model using for training data:"
      ]
    },
    {
      "cell_type": "code",
      "metadata": {
        "id": "UPw7XgzLCw8b",
        "colab_type": "code",
        "colab": {
          "base_uri": "https://localhost:8080/",
          "height": 187
        },
        "outputId": "3f3b645c-d2d0-44ae-86b8-4594a6268059"
      },
      "source": [
        "## Creating a Neural Network model using **nn.Sequential**\n",
        "model = nn.Sequential(nn.Linear(input_size, hidden_sizes[0]),\n",
        "                      nn.ReLU(),\n",
        "                      nn.Linear(hidden_sizes[0], hidden_sizes[1]),\n",
        "                      nn.ReLU(),\n",
        "                      nn.Linear(hidden_sizes[1], output_size),\n",
        "                      nn.LogSoftmax(dim=1))\n",
        "\n",
        "# Loading images from training data into the above model & getting logits of the model(as we are using *LogSoftmax* as ouptut)\n",
        "images, labels = next(iter(trainloader))\n",
        "images =images.view(images.shape[0],-1)\n",
        "\n",
        "logits = model(images)\n",
        "\n",
        "# Calcluating loss \n",
        "criterion = nn.NLLLoss()\n",
        "loss = criterion(logits, labels)\n",
        "\n",
        "print('Before backward pass: \\n', model[0].weight.grad)\n",
        "\n",
        "loss.backward()   #This computes the derivative of the loss with respect to the parameters using back propogation\n",
        "\n",
        "print('After backward pass: \\n', model[0].weight.grad)"
      ],
      "execution_count": 15,
      "outputs": [
        {
          "output_type": "stream",
          "text": [
            "Before backward pass: \n",
            " None\n",
            "After backward pass: \n",
            " tensor([[-0.0003, -0.0003, -0.0003,  ..., -0.0003, -0.0003, -0.0003],\n",
            "        [ 0.0010,  0.0010,  0.0010,  ...,  0.0010,  0.0010,  0.0010],\n",
            "        [-0.0009, -0.0009, -0.0009,  ..., -0.0009, -0.0009, -0.0009],\n",
            "        ...,\n",
            "        [-0.0012, -0.0012, -0.0012,  ..., -0.0012, -0.0012, -0.0012],\n",
            "        [ 0.0006,  0.0006,  0.0006,  ...,  0.0006,  0.0006,  0.0006],\n",
            "        [ 0.0005,  0.0005,  0.0005,  ...,  0.0005,  0.0005,  0.0005]])\n"
          ],
          "name": "stdout"
        }
      ]
    },
    {
      "cell_type": "markdown",
      "metadata": {
        "id": "HQ714rHZCw8f",
        "colab_type": "text"
      },
      "source": [
        "### Step - 4. Optimization of the Model"
      ]
    },
    {
      "cell_type": "markdown",
      "metadata": {
        "id": "CS3PyH6xCw8h",
        "colab_type": "text"
      },
      "source": [
        "#### Why Optimization of the Model ??\n",
        "        1. Initially nn model iterates over the training data and updates the weights. \n",
        "        2. Instead we can use **torch.optim**, module provided by PyTorch which helps to optimize the model, SGD Optimizer perform **gradient descent** and **update the weights by back-propagation**.\n",
        "        3. In each epoch (number of times we iterate over the training set), we can see a gradual decrease in training loss."
      ]
    },
    {
      "cell_type": "code",
      "metadata": {
        "id": "fZmsnu5pCw8i",
        "colab_type": "code",
        "colab": {
          "base_uri": "https://localhost:8080/",
          "height": 187
        },
        "outputId": "2fb6e09b-b2f2-4d5c-c8e5-edf783ba68a2"
      },
      "source": [
        "## Defining the Optimizer: We will be using SGD Optimizer for this model.\n",
        "\n",
        "optimizer = optim.SGD(model.parameters(),lr=0.003, momentum=0.9)   ## Learning Rate is 0.0003 for this optimizer\n",
        "\n",
        "epochs = []\n",
        "train_losses = []\n",
        "test_losses = []\n",
        "epoch = 10\n",
        "\n",
        "for e in range(epoch):\n",
        "    runningloss = 0\n",
        "    for images, labels in trainloader:\n",
        "        \n",
        "        #Flatten the images\n",
        "        images = images.view(images.shape[0],-1)\n",
        "        \n",
        "        #Training pass\n",
        "        optimizer.zero_grad()  # This clears the old gradients from the last step\n",
        "        \n",
        "        logits = model(images)\n",
        "        \n",
        "        #loss calculation\n",
        "        loss = criterion(logits,labels)\n",
        "        \n",
        "        # Loss calculation using back propogation\n",
        "        loss.backward()\n",
        "        \n",
        "        optimizer.step()  # Optimizer take a step absed on gradients of the parameters\n",
        "        \n",
        "        runningloss += loss.item()\n",
        "        \n",
        "    else:\n",
        "        test_loss=0\n",
        "        accuracy=0\n",
        "        \n",
        "        with torch.no_grad():\n",
        "            model.eval()\n",
        "            for images,labels in valloader:\n",
        "                \n",
        "                #Flatten the images\n",
        "                images = images.view(images.shape[0],-1)\n",
        "                log_ps=model(images)\n",
        "                \n",
        "                # Calculating loss of the test data\n",
        "                test_loss+=criterion(log_ps,labels)\n",
        "                ps=torch.exp(log_ps)\n",
        "                top_p,top_class=ps.topk(1,dim=1)\n",
        "                equals=top_class==labels.view(*top_class.shape)\n",
        "                \n",
        "                #Calculating accuracy of the model\n",
        "                accuracy+=torch.mean(equals.type(torch.FloatTensor))\n",
        "                \n",
        "        model.train()\n",
        "        train_losses.append(runningloss/len(valloader))\n",
        "        test_losses.append(test_loss/len(valloader))\n",
        "        \n",
        "        print(\"Epoch: {}/{}.. \".format(e+1, epoch),\n",
        "              \"Training Loss: {:.3f}.. \".format(runningloss/len(trainloader)),\n",
        "              \"Test Loss: {:.3f}.. \".format(test_loss/len(valloader)),\n",
        "              \"Test Accuracy: {:.3f}\".format(accuracy/len(valloader)))"
      ],
      "execution_count": 16,
      "outputs": [
        {
          "output_type": "stream",
          "text": [
            "Epoch: 1/10..  Training Loss: 0.628..  Test Loss: 0.301..  Test Accuracy: 0.909\n",
            "Epoch: 2/10..  Training Loss: 0.282..  Test Loss: 0.240..  Test Accuracy: 0.930\n",
            "Epoch: 3/10..  Training Loss: 0.221..  Test Loss: 0.200..  Test Accuracy: 0.939\n",
            "Epoch: 4/10..  Training Loss: 0.181..  Test Loss: 0.163..  Test Accuracy: 0.952\n",
            "Epoch: 5/10..  Training Loss: 0.151..  Test Loss: 0.143..  Test Accuracy: 0.957\n",
            "Epoch: 6/10..  Training Loss: 0.130..  Test Loss: 0.129..  Test Accuracy: 0.961\n",
            "Epoch: 7/10..  Training Loss: 0.113..  Test Loss: 0.115..  Test Accuracy: 0.965\n",
            "Epoch: 8/10..  Training Loss: 0.100..  Test Loss: 0.113..  Test Accuracy: 0.965\n",
            "Epoch: 9/10..  Training Loss: 0.089..  Test Loss: 0.099..  Test Accuracy: 0.968\n",
            "Epoch: 10/10..  Training Loss: 0.080..  Test Loss: 0.096..  Test Accuracy: 0.970\n"
          ],
          "name": "stdout"
        }
      ]
    },
    {
      "cell_type": "code",
      "metadata": {
        "id": "a50su_heCw8m",
        "colab_type": "code",
        "colab": {
          "base_uri": "https://localhost:8080/",
          "height": 282
        },
        "outputId": "0b98a0b5-5e0a-4b4c-87b3-c4253683dec8"
      },
      "source": [
        "import matplotlib.pyplot as plt\n",
        "%matplotlib inline\n",
        "plt.plot(train_losses, label='Training loss')\n",
        "plt.plot(test_losses, label='Validation loss')\n",
        "plt.legend(frameon=False)"
      ],
      "execution_count": 17,
      "outputs": [
        {
          "output_type": "execute_result",
          "data": {
            "text/plain": [
              "<matplotlib.legend.Legend at 0x7f9b6c33f7b8>"
            ]
          },
          "metadata": {
            "tags": []
          },
          "execution_count": 17
        },
        {
          "output_type": "display_data",
          "data": {
            "image/png": "[encoded data removed]",
            "text/plain": [
              "<Figure size 432x288 with 1 Axes>"
            ]
          },
          "metadata": {
            "tags": []
          }
        }
      ]
    },
    {
      "cell_type": "markdown",
      "metadata": {
        "id": "Gz1mTb-gCw8q",
        "colab_type": "text"
      },
      "source": [
        "### Step - 5. Testing & Evaluation"
      ]
    },
    {
      "cell_type": "code",
      "metadata": {
        "id": "QOjyEfIeCw8r",
        "colab_type": "code",
        "colab": {
          "base_uri": "https://localhost:8080/",
          "height": 270
        },
        "outputId": "1faf1493-37a3-43d8-beac-68bd1efd0e94"
      },
      "source": [
        "# Passing an image to the trained model from the validation set to see how the model works\n",
        "\n",
        "images, labels = next(iter(valloader))\n",
        "\n",
        "img = images[0].view(1, 784)\n",
        "\n",
        "with torch.no_grad():    ## This will impact the auto grad engine and deactivate it, which will reduce the memory usage.\n",
        "    logits = model(img)\n",
        "\n",
        "ps = torch.exp(logits)\n",
        "probab = list(ps.numpy()[0])\n",
        "print(\"Predicted Digit =\", probab.index(max(probab)))\n",
        "view_classify(img.view(1, 28, 28), ps)"
      ],
      "execution_count": 18,
      "outputs": [
        {
          "output_type": "stream",
          "text": [
            "Predicted Digit = 0\n"
          ],
          "name": "stdout"
        },
        {
          "output_type": "display_data",
          "data": {
            "image/png": "[encoded data removed]",
            "text/plain": [
              "<Figure size 432x648 with 2 Axes>"
            ]
          },
          "metadata": {
            "tags": []
          }
        }
      ]
    },
    {
      "cell_type": "code",
      "metadata": {
        "id": "d2eNBrcHCw80",
        "colab_type": "code",
        "colab": {
          "base_uri": "https://localhost:8080/",
          "height": 68
        },
        "outputId": "3436d777-a5b3-4978-d923-aea4770e2ebb"
      },
      "source": [
        "# Using for loop, iterating the validation data & calculating the no. of correct predictions.\n",
        "# By this we can get overall Accuracy of the model\n",
        "\n",
        "# Initializing two new variables - Correct_count and all_count\n",
        "correct_count, all_count = 0, 0\n",
        "\n",
        "for images,labels in valloader:\n",
        "    for i in range(len(labels)):\n",
        "        \n",
        "        # Convert 2D image to 1D vector\n",
        "        img = images[i].view(1, 784)\n",
        "    \n",
        "    # Calculate the class probabilities (softmax) for img\n",
        "    with torch.no_grad():\n",
        "        logits = model(img)\n",
        "\n",
        "    ps = torch.exp(logits)\n",
        "    probab = list(ps.numpy()[0])\n",
        "    pred_label = probab.index(max(probab))\n",
        "    true_label = labels.numpy()[i]\n",
        "    \n",
        "    # Checking if the label is correctly predicted or not\n",
        "    if(true_label == pred_label):\n",
        "        correct_count += 1\n",
        "    all_count += 1\n",
        "\n",
        "print(\"Number Of Images Tested =\", all_count)\n",
        "print(\"\\nModel Accuracy =\", (correct_count/all_count))"
      ],
      "execution_count": 19,
      "outputs": [
        {
          "output_type": "stream",
          "text": [
            "Number Of Images Tested = 157\n",
            "\n",
            "Model Accuracy = 0.9745222929936306\n"
          ],
          "name": "stdout"
        }
      ]
    }
  ]
}